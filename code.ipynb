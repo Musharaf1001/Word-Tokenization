{
  "nbformat": 4,
  "nbformat_minor": 0,
  "metadata": {
    "colab": {
      "provenance": []
    },
    "kernelspec": {
      "name": "python3",
      "display_name": "Python 3"
    },
    "language_info": {
      "name": "python"
    }
  },
  "cells": [
    {
      "cell_type": "code",
      "execution_count": 1,
      "metadata": {
        "colab": {
          "base_uri": "https://localhost:8080/"
        },
        "id": "BZpVwZGpIuXO",
        "outputId": "bb38269f-20ac-4c45-d077-9a1da754320a"
      },
      "outputs": [
        {
          "output_type": "stream",
          "name": "stdout",
          "text": [
            "Requirement already satisfied: nltk in /usr/local/lib/python3.10/dist-packages (3.8.1)\n",
            "Requirement already satisfied: click in /usr/local/lib/python3.10/dist-packages (from nltk) (8.1.7)\n",
            "Requirement already satisfied: joblib in /usr/local/lib/python3.10/dist-packages (from nltk) (1.4.2)\n",
            "Requirement already satisfied: regex>=2021.8.3 in /usr/local/lib/python3.10/dist-packages (from nltk) (2024.9.11)\n",
            "Requirement already satisfied: tqdm in /usr/local/lib/python3.10/dist-packages (from nltk) (4.66.6)\n"
          ]
        }
      ],
      "source": [
        "!pip install nltk"
      ]
    },
    {
      "cell_type": "code",
      "source": [
        "import nltk\n",
        "nltk.download('punkt')  # Download punkt data\n",
        "from nltk.tokenize import word_tokenize\n",
        "from nltk.probability import FreqDist\n"
      ],
      "metadata": {
        "colab": {
          "base_uri": "https://localhost:8080/"
        },
        "id": "i-WNkKCCIw1y",
        "outputId": "43fe6896-52c7-4384-b7f4-3a43abc5ccda"
      },
      "execution_count": 8,
      "outputs": [
        {
          "output_type": "stream",
          "name": "stderr",
          "text": [
            "[nltk_data] Downloading package punkt to /root/nltk_data...\n",
            "[nltk_data]   Unzipping tokenizers/punkt.zip.\n"
          ]
        }
      ]
    },
    {
      "cell_type": "code",
      "source": [
        "text = \"Machine learning is a fascinating field of study. It involves teaching computers to learn from data. With machine learning, computers can make predictions and decisions. The applications are endless, from self-driving cars to personalized recommendations.\"\n"
      ],
      "metadata": {
        "id": "gj_EfQbzI2-0"
      },
      "execution_count": 9,
      "outputs": []
    },
    {
      "cell_type": "code",
      "source": [
        "tokens = word_tokenize(text)"
      ],
      "metadata": {
        "id": "dSf0F_YYJBdx"
      },
      "execution_count": 10,
      "outputs": []
    },
    {
      "cell_type": "code",
      "source": [
        "print(\"Tokens:\", tokens)"
      ],
      "metadata": {
        "colab": {
          "base_uri": "https://localhost:8080/"
        },
        "id": "1fHVFAUvJose",
        "outputId": "8bb80661-542a-4e01-ce61-2c8e8bfc6f22"
      },
      "execution_count": 11,
      "outputs": [
        {
          "output_type": "stream",
          "name": "stdout",
          "text": [
            "Tokens: ['Machine', 'learning', 'is', 'a', 'fascinating', 'field', 'of', 'study', '.', 'It', 'involves', 'teaching', 'computers', 'to', 'learn', 'from', 'data', '.', 'With', 'machine', 'learning', ',', 'computers', 'can', 'make', 'predictions', 'and', 'decisions', '.', 'The', 'applications', 'are', 'endless', ',', 'from', 'self-driving', 'cars', 'to', 'personalized', 'recommendations', '.']\n"
          ]
        }
      ]
    },
    {
      "cell_type": "code",
      "source": [
        "num_tokens = len(tokens)\n",
        "print(\"Number of tokens:\", num_tokens)"
      ],
      "metadata": {
        "colab": {
          "base_uri": "https://localhost:8080/"
        },
        "id": "2EHaMSPiJtp_",
        "outputId": "d6c14217-f653-4f9b-c116-9fd17176e68b"
      },
      "execution_count": 12,
      "outputs": [
        {
          "output_type": "stream",
          "name": "stdout",
          "text": [
            "Number of tokens: 41\n"
          ]
        }
      ]
    },
    {
      "cell_type": "code",
      "source": [
        "freq_dist = FreqDist(tokens)\n",
        "print(\"Token Frequencies:\", freq_dist)"
      ],
      "metadata": {
        "colab": {
          "base_uri": "https://localhost:8080/"
        },
        "id": "n9z5b3kqJwCT",
        "outputId": "a2bb8703-072f-4841-aee7-42d5d5c7951b"
      },
      "execution_count": 13,
      "outputs": [
        {
          "output_type": "stream",
          "name": "stdout",
          "text": [
            "Token Frequencies: <FreqDist with 33 samples and 41 outcomes>\n"
          ]
        }
      ]
    },
    {
      "cell_type": "code",
      "source": [
        "print(\"Most Common Tokens:\", freq_dist.most_common(10))"
      ],
      "metadata": {
        "colab": {
          "base_uri": "https://localhost:8080/"
        },
        "id": "dvGVpH4HJyHT",
        "outputId": "b440e999-b260-47a1-c286-9f045a23bf2a"
      },
      "execution_count": 14,
      "outputs": [
        {
          "output_type": "stream",
          "name": "stdout",
          "text": [
            "Most Common Tokens: [('.', 4), ('learning', 2), ('computers', 2), ('to', 2), ('from', 2), (',', 2), ('Machine', 1), ('is', 1), ('a', 1), ('fascinating', 1)]\n"
          ]
        }
      ]
    },
    {
      "cell_type": "code",
      "source": [
        "freq_dist.plot(10, title=\"Top 10 Most Frequent Tokens\")"
      ],
      "metadata": {
        "colab": {
          "base_uri": "https://localhost:8080/",
          "height": 552
        },
        "id": "_nL9Xow6J0ga",
        "outputId": "d8ffc700-3ba9-4e6f-c4b9-9543bc276922"
      },
      "execution_count": 15,
      "outputs": [
        {
          "output_type": "display_data",
          "data": {
            "text/plain": [
              "<Figure size 640x480 with 1 Axes>"
            ],
            "image/png": "[encoded data removed]"
          },
          "metadata": {}
        },
        {
          "output_type": "execute_result",
          "data": {
            "text/plain": [
              "<Axes: title={'center': 'Top 10 Most Frequent Tokens'}, xlabel='Samples', ylabel='Counts'>"
            ]
          },
          "metadata": {},
          "execution_count": 15
        }
      ]
    },
    {
      "cell_type": "code",
      "source": [],
      "metadata": {
        "id": "mG5rCj5DKh0o"
      },
      "execution_count": null,
      "outputs": []
    }
  ]
}